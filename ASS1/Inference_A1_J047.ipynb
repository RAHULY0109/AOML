{
 "cells": [
  {
   "cell_type": "code",
   "execution_count": 1,
   "metadata": {},
   "outputs": [],
   "source": [
    "import pandas as pd\n",
    "import joblib\n"
   ]
  },
  {
   "cell_type": "code",
   "execution_count": 2,
   "metadata": {},
   "outputs": [],
   "source": [
    "scaler = joblib.load(\"Saved_objects/scaler.pkl\")\n",
    "encoder = joblib.load(\"Saved_objects/encoder.pkl\")\n",
    "model = joblib.load(\"Saved_objects/best_model.pkl\")\n"
   ]
  },
  {
   "cell_type": "code",
   "execution_count": 3,
   "metadata": {},
   "outputs": [],
   "source": [
    "def categorize_bmi(bmi):\n",
    "    if bmi < 18.5:\n",
    "        return \"Underweight\"\n",
    "    elif bmi < 25:\n",
    "        return \"Normal weight\"\n",
    "    elif bmi < 30:\n",
    "        return \"Overweight\"\n",
    "    else:\n",
    "        return \"Obese\"\n",
    "\n",
    "\n",
    "numeric_features = [\"Pregnancies\", \"Glucose\", \"BloodPressure\", \"SkinThickness\", \"Insulin\", \"BMI\", \"DiabetesPedigreeFunction\", \"Age\"]\n",
    "categorical_features = [\"BMI_category\"]\n"
   ]
  },
  {
   "cell_type": "code",
   "execution_count": 4,
   "metadata": {},
   "outputs": [],
   "source": [
    "def inference_pipeline(sample):\n",
    "    sample_df = pd.DataFrame([sample])\n",
    "\n",
    "    \n",
    "    if \"BMI_category\" not in sample_df:\n",
    "        sample_df[\"BMI_category\"] = sample_df[\"BMI\"].apply(categorize_bmi)\n",
    "\n",
    "    \n",
    "    sample_df[numeric_features] = scaler.transform(sample_df[numeric_features])\n",
    "\n",
    "    \n",
    "    encoded_sample = encoder.transform(sample_df[categorical_features])\n",
    "    encoded_sample_df = pd.DataFrame(encoded_sample, columns=encoder.get_feature_names_out(categorical_features))\n",
    "\n",
    "    \n",
    "    sample_df = sample_df.reset_index(drop=True)\n",
    "    sample_df = pd.concat([sample_df, encoded_sample_df], axis=1).drop(columns=categorical_features)\n",
    "\n",
    "    \n",
    "    prediction = model.predict(sample_df)\n",
    "    return prediction[0]"
   ]
  },
  {
   "cell_type": "code",
   "execution_count": 5,
   "metadata": {},
   "outputs": [
    {
     "name": "stdout",
     "output_type": "stream",
     "text": [
      "Predicted Class: 1\n"
     ]
    }
   ],
   "source": [
    "test_sample = {\n",
    "    \"Pregnancies\": 6,\n",
    "    \"Glucose\": 148,\n",
    "    \"BloodPressure\": 72,\n",
    "    \"SkinThickness\": 35,\n",
    "    \"Insulin\": 0,\n",
    "    \"BMI\": 33.6,\n",
    "    \"DiabetesPedigreeFunction\": 0.627,\n",
    "    \"Age\": 50\n",
    "}\n",
    "\n",
    "test_sample[\"BMI_category\"] = categorize_bmi(test_sample[\"BMI\"])\n",
    "\n",
    "predicted_class = inference_pipeline(test_sample)\n",
    "print(f\"Predicted Class: {predicted_class}\")"
   ]
  },
  {
   "cell_type": "code",
   "execution_count": 6,
   "metadata": {},
   "outputs": [
    {
     "name": "stdout",
     "output_type": "stream",
     "text": [
      "Sample 1: Predicted Class = 1\n",
      "Sample 2: Predicted Class = 0\n",
      "Sample 3: Predicted Class = 1\n",
      "Sample 4: Predicted Class = 0\n",
      "Sample 5: Predicted Class = 1\n"
     ]
    }
   ],
   "source": [
    "val_data = pd.read_csv(\"Data/diabetes.csv\")\n",
    "\n",
    "val_data[\"BMI_category\"] = val_data[\"BMI\"].apply(categorize_bmi)\n",
    "\n",
    "for i in range(5):\n",
    "    sample = val_data.iloc[i].drop(\"Outcome\").to_dict()\n",
    "    predicted_class = inference_pipeline(sample)\n",
    "    print(f\"Sample {i + 1}: Predicted Class = {predicted_class}\")\n"
   ]
  },
  {
   "cell_type": "code",
   "execution_count": null,
   "metadata": {},
   "outputs": [],
   "source": []
  }
 ],
 "metadata": {
  "kernelspec": {
   "display_name": "base",
   "language": "python",
   "name": "python3"
  },
  "language_info": {
   "codemirror_mode": {
    "name": "ipython",
    "version": 3
   },
   "file_extension": ".py",
   "mimetype": "text/x-python",
   "name": "python",
   "nbconvert_exporter": "python",
   "pygments_lexer": "ipython3",
   "version": "3.10.9"
  }
 },
 "nbformat": 4,
 "nbformat_minor": 2
}
