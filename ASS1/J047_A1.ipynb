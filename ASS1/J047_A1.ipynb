{
 "cells": [
  {
   "cell_type": "code",
   "execution_count": 1,
   "metadata": {},
   "outputs": [],
   "source": [
    "#Folder structure\n",
    "#--Data\n",
    "#--Saved_objects\n",
    "#--Inference_A1_J013.ipynb\n",
    "#--J013_A1.ipynb"
   ]
  },
  {
   "cell_type": "code",
   "execution_count": 2,
   "metadata": {},
   "outputs": [],
   "source": [
    "import pandas as pd\n",
    "from sklearn.model_selection import train_test_split\n",
    "from sklearn.preprocessing import StandardScaler, OneHotEncoder\n",
    "from sklearn.neighbors import KNeighborsClassifier\n",
    "from sklearn.tree import DecisionTreeClassifier\n",
    "from sklearn.metrics import f1_score\n",
    "import joblib\n"
   ]
  },
  {
   "cell_type": "code",
   "execution_count": 3,
   "metadata": {},
   "outputs": [
    {
     "name": "stdout",
     "output_type": "stream",
     "text": [
      "<class 'pandas.core.frame.DataFrame'>\n",
      "RangeIndex: 768 entries, 0 to 767\n",
      "Data columns (total 9 columns):\n",
      " #   Column                    Non-Null Count  Dtype  \n",
      "---  ------                    --------------  -----  \n",
      " 0   Pregnancies               768 non-null    int64  \n",
      " 1   Glucose                   768 non-null    int64  \n",
      " 2   BloodPressure             768 non-null    int64  \n",
      " 3   SkinThickness             768 non-null    int64  \n",
      " 4   Insulin                   768 non-null    int64  \n",
      " 5   BMI                       768 non-null    float64\n",
      " 6   DiabetesPedigreeFunction  768 non-null    float64\n",
      " 7   Age                       768 non-null    int64  \n",
      " 8   Outcome                   768 non-null    int64  \n",
      "dtypes: float64(2), int64(7)\n",
      "memory usage: 54.1 KB\n"
     ]
    }
   ],
   "source": [
    "data = pd.read_csv(\"Data/diabetes.csv\")\n",
    "data.head()\n",
    "\n",
    "data.info()"
   ]
  },
  {
   "cell_type": "code",
   "execution_count": 4,
   "metadata": {},
   "outputs": [],
   "source": [
    "def categorize_bmi(bmi):\n",
    "    if bmi < 18.5:\n",
    "        return \"Underweight\"\n",
    "    elif bmi < 25:\n",
    "        return \"Normal weight\"\n",
    "    elif bmi < 30:\n",
    "        return \"Overweight\"\n",
    "    else:\n",
    "        return \"Obese\"\n",
    "\n",
    "data[\"BMI_category\"] = data[\"BMI\"].apply(categorize_bmi)"
   ]
  },
  {
   "cell_type": "code",
   "execution_count": 5,
   "metadata": {},
   "outputs": [
    {
     "name": "stderr",
     "output_type": "stream",
     "text": [
      "c:\\ProgramData\\anaconda3\\lib\\site-packages\\sklearn\\preprocessing\\_encoders.py:828: FutureWarning: `sparse` was renamed to `sparse_output` in version 1.2 and will be removed in 1.4. `sparse_output` is ignored unless you leave `sparse` to its default value.\n",
      "  warnings.warn(\n"
     ]
    }
   ],
   "source": [
    "train_data, val_data = train_test_split(data, test_size=0.2, random_state=42, stratify=data[\"Outcome\"])\n",
    "\n",
    "numeric_features = [\"Pregnancies\", \"Glucose\", \"BloodPressure\", \"SkinThickness\", \"Insulin\", \"BMI\", \"DiabetesPedigreeFunction\", \"Age\"]\n",
    "scaler = StandardScaler()\n",
    "train_data[numeric_features] = scaler.fit_transform(train_data[numeric_features])\n",
    "val_data[numeric_features] = scaler.transform(val_data[numeric_features])\n",
    "\n",
    "categorical_features = [\"BMI_category\"]\n",
    "encoder = OneHotEncoder(sparse=False)\n",
    "train_encoded = encoder.fit_transform(train_data[categorical_features])\n",
    "val_encoded = encoder.transform(val_data[categorical_features])\n",
    "\n",
    "train_encoded_df = pd.DataFrame(train_encoded, columns=encoder.get_feature_names_out(categorical_features))\n",
    "val_encoded_df = pd.DataFrame(val_encoded, columns=encoder.get_feature_names_out(categorical_features))\n",
    "\n",
    "train_data = pd.concat([train_data.reset_index(drop=True), train_encoded_df], axis=1).drop(columns=categorical_features)\n",
    "val_data = pd.concat([val_data.reset_index(drop=True), val_encoded_df], axis=1).drop(columns=categorical_features)\n",
    "\n",
    "X_train = train_data.drop(columns=[\"Outcome\"])\n",
    "y_train = train_data[\"Outcome\"]\n",
    "X_val = val_data.drop(columns=[\"Outcome\"])\n",
    "y_val = val_data[\"Outcome\"]"
   ]
  },
  {
   "cell_type": "code",
   "execution_count": 6,
   "metadata": {},
   "outputs": [
    {
     "name": "stdout",
     "output_type": "stream",
     "text": [
      "Best Model: Decision Tree (max_depth=5, F1 Score=0.7155963302752293)\n"
     ]
    },
    {
     "data": {
      "text/plain": [
       "['Saved_objects/best_model.pkl']"
      ]
     },
     "execution_count": 6,
     "metadata": {},
     "output_type": "execute_result"
    }
   ],
   "source": [
    "best_k, best_knn_f1 = None, 0\n",
    "for k in [3, 5, 7]:\n",
    "    knn = KNeighborsClassifier(n_neighbors=k)\n",
    "    knn.fit(X_train, y_train)\n",
    "    f1 = f1_score(y_val, knn.predict(X_val))\n",
    "    if f1 > best_knn_f1:\n",
    "        best_k, best_knn_f1 = k, f1\n",
    "\n",
    "best_depth, best_dt_f1 = None, 0\n",
    "for depth in [3, 5, 7]:\n",
    "    dt = DecisionTreeClassifier(max_depth=depth, random_state=42)\n",
    "    dt.fit(X_train, y_train)\n",
    "    f1 = f1_score(y_val, dt.predict(X_val))\n",
    "    if f1 > best_dt_f1:\n",
    "        best_depth, best_dt_f1 = depth, f1\n",
    "\n",
    "if best_knn_f1 > best_dt_f1:\n",
    "    best_model = KNeighborsClassifier(n_neighbors=best_k)\n",
    "    best_model.fit(X_train, y_train)\n",
    "    print(f\"Best Model: KNN (k={best_k}, F1 Score={best_knn_f1})\")\n",
    "else:\n",
    "    best_model = DecisionTreeClassifier(max_depth=best_depth, random_state=42)\n",
    "    best_model.fit(X_train, y_train)\n",
    "    print(f\"Best Model: Decision Tree (max_depth={best_depth}, F1 Score={best_dt_f1})\")\n",
    "\n",
    "joblib.dump(scaler, \"Saved_objects/scaler.pkl\")\n",
    "joblib.dump(encoder, \"Saved_objects/encoder.pkl\")\n",
    "joblib.dump(best_model, \"Saved_objects/best_model.pkl\")"
   ]
  }
 ],
 "metadata": {
  "kernelspec": {
   "display_name": "base",
   "language": "python",
   "name": "python3"
  },
  "language_info": {
   "codemirror_mode": {
    "name": "ipython",
    "version": 3
   },
   "file_extension": ".py",
   "mimetype": "text/x-python",
   "name": "python",
   "nbconvert_exporter": "python",
   "pygments_lexer": "ipython3",
   "version": "3.10.9"
  }
 },
 "nbformat": 4,
 "nbformat_minor": 2
}
