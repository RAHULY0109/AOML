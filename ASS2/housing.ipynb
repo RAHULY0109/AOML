{
 "cells": [
  {
   "cell_type": "code",
   "execution_count": 3,
   "metadata": {},
   "outputs": [
    {
     "name": "stdout",
     "output_type": "stream",
     "text": [
      "   longitude  latitude  housing_median_age  total_rooms  total_bedrooms  \\\n",
      "0    -122.23     37.88                41.0        880.0           129.0   \n",
      "1    -122.22     37.86                21.0       7099.0          1106.0   \n",
      "2    -122.24     37.85                52.0       1467.0           190.0   \n",
      "3    -122.25     37.85                52.0       1274.0           235.0   \n",
      "4    -122.25     37.85                52.0       1627.0           280.0   \n",
      "\n",
      "   population  households  median_income  median_house_value ocean_proximity  \n",
      "0       322.0       126.0         8.3252            452600.0        NEAR BAY  \n",
      "1      2401.0      1138.0         8.3014            358500.0        NEAR BAY  \n",
      "2       496.0       177.0         7.2574            352100.0        NEAR BAY  \n",
      "3       558.0       219.0         5.6431            341300.0        NEAR BAY  \n",
      "4       565.0       259.0         3.8462            342200.0        NEAR BAY  \n",
      "Ridge Regression - MAE: 2448633.61, MSE: 6006069476576.81, RMSE: 2450728.36\n",
      "Lasso Regression - MAE: 2456202.13, MSE: 6043527347499.96, RMSE: 2458358.67\n"
     ]
    },
    {
     "name": "stderr",
     "output_type": "stream",
     "text": [
      "c:\\ProgramData\\anaconda3\\lib\\site-packages\\sklearn\\linear_model\\_coordinate_descent.py:631: ConvergenceWarning: Objective did not converge. You might want to increase the number of iterations, check the scale of the features or consider increasing regularisation. Duality gap: 2.512e+12, tolerance: 2.199e+10\n",
      "  model = cd_fast.enet_coordinate_descent(\n"
     ]
    },
    {
     "data": {
      "text/plain": [
       "(2456202.1271552, 6043527347499.965, 2458358.6694174563)"
      ]
     },
     "execution_count": 3,
     "metadata": {},
     "output_type": "execute_result"
    }
   ],
   "source": [
    "import pandas as pd\n",
    "import numpy as np\n",
    "import matplotlib.pyplot as plt\n",
    "import seaborn as sns\n",
    "from sklearn.model_selection import train_test_split\n",
    "from sklearn.preprocessing import StandardScaler\n",
    "from sklearn.linear_model import Ridge, Lasso\n",
    "from sklearn.metrics import mean_absolute_error, mean_squared_error\n",
    "from sklearn.impute import SimpleImputer\n",
    "\n",
    "# Load the dataset\n",
    "\n",
    "data = pd.read_csv(\"housing.csv\")\n",
    "\n",
    "# Checking the dataset\n",
    "print(data.head())\n",
    "\n",
    "# Define features and target\n",
    "X = data.drop(columns=[\"median_house_value\"])\n",
    "\n",
    "# One-hot encode the 'ocean_proximity' column\n",
    "X = pd.get_dummies(X, columns=[\"ocean_proximity\"])\n",
    "\n",
    "y = data[\"median_house_value\"]\n",
    "\n",
    "# Determine number of bins using Sturge’s Rule\n",
    "num_bins = int(np.ceil(1 + np.log2(len(y))))\n",
    "\n",
    "# Create stratified bins for y\n",
    "data[\"price_category\"] = pd.cut(y, bins=num_bins, labels=False)\n",
    "\n",
    "# Stratified splitting\n",
    "X_train, X_test, y_train, y_test = train_test_split(X, y, test_size=0.2, stratify=data[\"price_category\"], random_state=42)\n",
    "\n",
    "del data[\"price_category\"]  # Remove bin column after splitting\n",
    "# Handling missing values\n",
    "imputer = SimpleImputer(strategy='mean')\n",
    "X_train = imputer.fit_transform(X_train)\n",
    "X_test = imputer.transform(X_test)\n",
    "\n",
    "# Standardizing features\n",
    "scaler = StandardScaler()\n",
    "X_train = scaler.fit_transform(X_train)\n",
    "X_test = scaler.transform(X_test)\n",
    "X_test = scaler.transform(X_test)\n",
    "\n",
    "# Train Ridge and Lasso models\n",
    "ridge = Ridge(alpha=1.0)\n",
    "lasso = Lasso(alpha=0.1)\n",
    "ridge.fit(X_train, y_train)\n",
    "lasso.fit(X_train, y_train)\n",
    "\n",
    "# Predictions\n",
    "y_pred_ridge = ridge.predict(X_test)\n",
    "y_pred_lasso = lasso.predict(X_test)\n",
    "\n",
    "# Evaluation Metrics\n",
    "def evaluate(y_true, y_pred, model_name):\n",
    "    mae = mean_absolute_error(y_true, y_pred)\n",
    "    mse = mean_squared_error(y_true, y_pred)\n",
    "    rmse = np.sqrt(mse)\n",
    "    print(f\"{model_name} - MAE: {mae:.2f}, MSE: {mse:.2f}, RMSE: {rmse:.2f}\")\n",
    "    return mae, mse, rmse\n",
    "\n",
    "evaluate(y_test, y_pred_ridge, \"Ridge Regression\")\n",
    "evaluate(y_test, y_pred_lasso, \"Lasso Regression\")\n"
   ]
  },
  {
   "cell_type": "code",
   "execution_count": null,
   "metadata": {},
   "outputs": [
    {
     "name": "stdout",
     "output_type": "stream",
     "text": [
      "Housing Regression Findings:\n",
      "1. Ridge Regression performed slightly better than Lasso Regression in terms of MAE, MSE, and RMSE.\n",
      "2. Ridge Regression MAE: 2,448,633.61, MSE: 6,006,069,476,576.81, RMSE: 2,450,728.36.\n",
      "3. Lasso Regression MAE: 2,456,202.13, MSE: 6,043,527,347,499.96, RMSE: 2,458,358.67.\n",
      "4. The differences in performance are minor, but Ridge Regression's lower error metrics suggest it might generalize better.\n"
     ]
    }
   ],
   "source": [
    "print(\"Housing Regression Findings:\")\n",
    "print(\"1. Ridge Regression performed slightly better than Lasso Regression in terms of MAE, MSE, and RMSE.\")\n",
    "print(\"2. Ridge Regression MAE: 2,448,633.61, MSE: 6,006,069,476,576.81, RMSE: 2,450,728.36.\")\n",
    "print(\"3. Lasso Regression MAE: 2,456,202.13, MSE: 6,043,527,347,499.96, RMSE: 2,458,358.67.\")\n",
    "print(\"4. The differences in performance are minor, but Ridge Regression's lower error metrics suggest it might generalize better.\")\n",
    "\n"
   ]
  },
  {
   "cell_type": "code",
   "execution_count": null,
   "metadata": {},
   "outputs": [],
   "source": []
  }
 ],
 "metadata": {
  "kernelspec": {
   "display_name": "base",
   "language": "python",
   "name": "python3"
  },
  "language_info": {
   "codemirror_mode": {
    "name": "ipython",
    "version": 3
   },
   "file_extension": ".py",
   "mimetype": "text/x-python",
   "name": "python",
   "nbconvert_exporter": "python",
   "pygments_lexer": "ipython3",
   "version": "3.10.9"
  }
 },
 "nbformat": 4,
 "nbformat_minor": 2
}
