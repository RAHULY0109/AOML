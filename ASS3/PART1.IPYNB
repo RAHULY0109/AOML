{
 "cells": [
  {
   "cell_type": "code",
   "execution_count": 4,
   "metadata": {},
   "outputs": [
    {
     "name": "stdout",
     "output_type": "stream",
     "text": [
      "Random Forest AUC: 0.7196611976912743\n",
      "Best parameters (RF): {'n_estimators': 200, 'min_samples_split': 10, 'min_samples_leaf': 2, 'max_depth': 20}\n",
      "XGBoost AUC: 0.7636845380588324\n",
      "Submission file saved!\n"
     ]
    }
   ],
   "source": [
    "import numpy as np\n",
    "import pandas as pd\n",
    "from sklearn.model_selection import train_test_split, GridSearchCV, RandomizedSearchCV\n",
    "from sklearn.impute import SimpleImputer\n",
    "from sklearn.preprocessing import LabelEncoder, OneHotEncoder\n",
    "from sklearn.ensemble import RandomForestClassifier\n",
    "from xgboost import XGBClassifier\n",
    "from sklearn.metrics import roc_auc_score\n",
    "\n",
    "# Load dataset\n",
    "train = pd.read_csv(\"C:/Users/Ayush Pandita/OneDrive/Desktop/YR 3 SEM 6/AOML/ASS3/data/train.csv\")\n",
    "test = pd.read_csv(\"C:/Users/Ayush Pandita/OneDrive/Desktop/YR 3 SEM 6/AOML/ASS3/data/test.csv\")\n",
    "\n",
    "# Target variable\n",
    "y = train['target']\n",
    "X = train.drop(columns=['id', 'target'])\n",
    "test_ids = test['id']\n",
    "test = test.drop(columns=['id'])\n",
    "\n",
    "# Label Encoding for categorical variables\n",
    "for col in X.select_dtypes(include=['object']).columns:\n",
    "    le = LabelEncoder()\n",
    "    combined_data = pd.concat([X[col], test[col]], axis=0)\n",
    "    le.fit(combined_data)\n",
    "    X[col] = le.transform(X[col])\n",
    "    test[col] = le.transform(test[col])\n",
    "\n",
    "# One-Hot Encoding for low-cardinality categorical variables\n",
    "X = pd.get_dummies(X, drop_first=True)\n",
    "test = pd.get_dummies(test, drop_first=True)\n",
    "\n",
    "# Align train and test features\n",
    "test = test.reindex(columns=X.columns, fill_value=0)\n",
    "# Impute missing values\n",
    "imputer = SimpleImputer(strategy='mean')\n",
    "X = pd.DataFrame(imputer.fit_transform(X), columns=X.columns)\n",
    "test = pd.DataFrame(imputer.transform(test), columns=test.columns)\n",
    "\n",
    "# Train-validation split\n",
    "# Train-validation split\n",
    "X_train, X_valid, y_train, y_valid = train_test_split(X, y, test_size=0.2, random_state=42)\n",
    "\n",
    "# Baseline Model (Random Forest)\n",
    "rf_model = RandomForestClassifier(n_estimators=100, random_state=42)\n",
    "rf_model.fit(X_train, y_train)\n",
    "rf_preds = rf_model.predict_proba(X_valid)[:, 1]\n",
    "print(\"Random Forest AUC:\", roc_auc_score(y_valid, rf_preds))\n",
    "\n",
    "# Hyperparameter tuning (Randomized Search)\n",
    "param_dist = {\n",
    "    'n_estimators': [100, 200, 300],\n",
    "    'max_depth': [5, 10, 20],\n",
    "    'min_samples_split': [2, 5, 10],\n",
    "    'min_samples_leaf': [1, 2, 4]\n",
    "}\n",
    "rf_random = RandomizedSearchCV(RandomForestClassifier(random_state=42), param_distributions=param_dist, n_iter=10, cv=3, scoring='roc_auc', random_state=42)\n",
    "rf_random.fit(X_train, y_train)\n",
    "print(\"Best parameters (RF):\", rf_random.best_params_)\n",
    "\n",
    "# Train XGBoost with best params\n",
    "xgb_model = XGBClassifier(n_estimators=300, learning_rate=0.05, max_depth=6, subsample=0.8, colsample_bytree=0.8, random_state=42)\n",
    "xgb_model.fit(X_train, y_train)\n",
    "xgb_preds = xgb_model.predict_proba(X_valid)[:, 1]\n",
    "print(\"XGBoost AUC:\", roc_auc_score(y_valid, xgb_preds))\n",
    "\n",
    "# Predict on test set\n",
    "final_preds = xgb_model.predict_proba(test)[:, 1]\n",
    "submission = pd.DataFrame({\"id\": test_ids, \"target\": final_preds})\n",
    "submission.to_csv(\"submission.csv\", index=False)\n",
    "print(\"Submission file saved!\")\n"
   ]
  },
  {
   "cell_type": "code",
   "execution_count": null,
   "metadata": {},
   "outputs": [],
   "source": []
  }
 ],
 "metadata": {
  "kernelspec": {
   "display_name": "base",
   "language": "python",
   "name": "python3"
  },
  "language_info": {
   "codemirror_mode": {
    "name": "ipython",
    "version": 3
   },
   "file_extension": ".py",
   "mimetype": "text/x-python",
   "name": "python",
   "nbconvert_exporter": "python",
   "pygments_lexer": "ipython3",
   "version": "3.10.9"
  }
 },
 "nbformat": 4,
 "nbformat_minor": 2
}
